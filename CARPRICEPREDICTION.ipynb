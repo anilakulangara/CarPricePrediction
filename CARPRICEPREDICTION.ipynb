{
 "cells": [
  {
   "cell_type": "markdown",
   "id": "00f11884-b66c-40e4-850e-39329c9629ac",
   "metadata": {},
   "source": [
    "### LOADING AND PREPROCESSING\n"
   ]
  },
  {
   "cell_type": "markdown",
   "id": "d49e4fa7-7a18-4f99-8a8a-f03b8eed354b",
   "metadata": {},
   "source": [
    "The dataset is loaded into a Pandas DataFrame using pd.read_csv()"
   ]
  },
  {
   "cell_type": "code",
   "execution_count": 10,
   "id": "595abef8-e7f0-4548-91b7-2b1b4f7e93bf",
   "metadata": {},
   "outputs": [],
   "source": [
    "import pandas as pd\n",
    "\n",
    "# Load dataset\n",
    "df = pd.read_csv(\"CarPrice_Assignment.csv\")\n",
    "\n"
   ]
  },
  {
   "cell_type": "markdown",
   "id": "12c3889c-c2ce-43af-ae9a-7b5cc781d314",
   "metadata": {},
   "source": [
    " PREPROCESSING\n",
    " -identify missing values, data types, and potential preprocessing needs.\n",
    " -Handling Missing Values\n",
    " -Removing Duplicates\n",
    " -Encoded categorical features\n",
    "\n"
   ]
  },
  {
   "cell_type": "code",
   "execution_count": 13,
   "id": "ab76769e-6fd6-4c91-90cb-781ec6f268cc",
   "metadata": {},
   "outputs": [
    {
     "name": "stdout",
     "output_type": "stream",
     "text": [
      "Dataset Information:\n",
      "<class 'pandas.core.frame.DataFrame'>\n",
      "RangeIndex: 205 entries, 0 to 204\n",
      "Data columns (total 26 columns):\n",
      " #   Column            Non-Null Count  Dtype  \n",
      "---  ------            --------------  -----  \n",
      " 0   car_ID            205 non-null    int64  \n",
      " 1   symboling         205 non-null    int64  \n",
      " 2   CarName           205 non-null    object \n",
      " 3   fueltype          205 non-null    object \n",
      " 4   aspiration        205 non-null    object \n",
      " 5   doornumber        205 non-null    object \n",
      " 6   carbody           205 non-null    object \n",
      " 7   drivewheel        205 non-null    object \n",
      " 8   enginelocation    205 non-null    object \n",
      " 9   wheelbase         205 non-null    float64\n",
      " 10  carlength         205 non-null    float64\n",
      " 11  carwidth          205 non-null    float64\n",
      " 12  carheight         205 non-null    float64\n",
      " 13  curbweight        205 non-null    int64  \n",
      " 14  enginetype        205 non-null    object \n",
      " 15  cylindernumber    205 non-null    object \n",
      " 16  enginesize        205 non-null    int64  \n",
      " 17  fuelsystem        205 non-null    object \n",
      " 18  boreratio         205 non-null    float64\n",
      " 19  stroke            205 non-null    float64\n",
      " 20  compressionratio  205 non-null    float64\n",
      " 21  horsepower        205 non-null    int64  \n",
      " 22  peakrpm           205 non-null    int64  \n",
      " 23  citympg           205 non-null    int64  \n",
      " 24  highwaympg        205 non-null    int64  \n",
      " 25  price             205 non-null    float64\n",
      "dtypes: float64(8), int64(8), object(10)\n",
      "memory usage: 41.8+ KB\n",
      "None\n"
     ]
    }
   ],
   "source": [
    "# Display basic information about the dataset\n",
    "\n",
    "print(\"Dataset Information:\")\n",
    "print(df.info())"
   ]
  },
  {
   "cell_type": "code",
   "execution_count": 15,
   "id": "e4be995a-29c2-4c75-a6ae-7623f994b3d6",
   "metadata": {},
   "outputs": [],
   "source": [
    "# Remove duplicate rows\n",
    "\n",
    "df.drop_duplicates(inplace=True)"
   ]
  },
  {
   "cell_type": "markdown",
   "id": "e0048753-4500-4f63-b1e1-af19a1f04160",
   "metadata": {},
   "source": [
    "Duplicate rows are removes and the datset is cleaned"
   ]
  },
  {
   "cell_type": "code",
   "execution_count": 18,
   "id": "e2ba77c5-8c73-4281-8f5f-b5bac353a385",
   "metadata": {},
   "outputs": [
    {
     "name": "stdout",
     "output_type": "stream",
     "text": [
      "\n",
      "Missing Values:\n",
      "car_ID              0\n",
      "symboling           0\n",
      "CarName             0\n",
      "fueltype            0\n",
      "aspiration          0\n",
      "doornumber          0\n",
      "carbody             0\n",
      "drivewheel          0\n",
      "enginelocation      0\n",
      "wheelbase           0\n",
      "carlength           0\n",
      "carwidth            0\n",
      "carheight           0\n",
      "curbweight          0\n",
      "enginetype          0\n",
      "cylindernumber      0\n",
      "enginesize          0\n",
      "fuelsystem          0\n",
      "boreratio           0\n",
      "stroke              0\n",
      "compressionratio    0\n",
      "horsepower          0\n",
      "peakrpm             0\n",
      "citympg             0\n",
      "highwaympg          0\n",
      "price               0\n",
      "dtype: int64\n"
     ]
    }
   ],
   "source": [
    "# Check for missing values\n",
    "\n",
    "print(\"\\nMissing Values:\")\n",
    "print(df.isnull().sum())"
   ]
  },
  {
   "cell_type": "markdown",
   "id": "684d4aac-0d37-4d79-bfb4-489eec2ceda8",
   "metadata": {},
   "source": [
    "Handle Missing Values\n",
    "The dataset typically does not contain missing values, but we will verify and handle them if necessary. If missing values exist, we can:\n",
    "\n",
    "Use mean/median imputation for numerical data.\n",
    "\n"
   ]
  },
  {
   "cell_type": "code",
   "execution_count": 21,
   "id": "ee9d543c-634b-4c73-8ea2-8fc0357ae78f",
   "metadata": {},
   "outputs": [
    {
     "data": {
      "text/html": [
       "<div>\n",
       "<style scoped>\n",
       "    .dataframe tbody tr th:only-of-type {\n",
       "        vertical-align: middle;\n",
       "    }\n",
       "\n",
       "    .dataframe tbody tr th {\n",
       "        vertical-align: top;\n",
       "    }\n",
       "\n",
       "    .dataframe thead th {\n",
       "        text-align: right;\n",
       "    }\n",
       "</style>\n",
       "<table border=\"1\" class=\"dataframe\">\n",
       "  <thead>\n",
       "    <tr style=\"text-align: right;\">\n",
       "      <th></th>\n",
       "      <th>car_ID</th>\n",
       "      <th>symboling</th>\n",
       "      <th>CarName</th>\n",
       "      <th>fueltype</th>\n",
       "      <th>aspiration</th>\n",
       "      <th>doornumber</th>\n",
       "      <th>carbody</th>\n",
       "      <th>drivewheel</th>\n",
       "      <th>enginelocation</th>\n",
       "      <th>wheelbase</th>\n",
       "      <th>...</th>\n",
       "      <th>enginesize</th>\n",
       "      <th>fuelsystem</th>\n",
       "      <th>boreratio</th>\n",
       "      <th>stroke</th>\n",
       "      <th>compressionratio</th>\n",
       "      <th>horsepower</th>\n",
       "      <th>peakrpm</th>\n",
       "      <th>citympg</th>\n",
       "      <th>highwaympg</th>\n",
       "      <th>price</th>\n",
       "    </tr>\n",
       "  </thead>\n",
       "  <tbody>\n",
       "    <tr>\n",
       "      <th>0</th>\n",
       "      <td>1</td>\n",
       "      <td>3</td>\n",
       "      <td>alfa-romero giulia</td>\n",
       "      <td>gas</td>\n",
       "      <td>std</td>\n",
       "      <td>two</td>\n",
       "      <td>convertible</td>\n",
       "      <td>rwd</td>\n",
       "      <td>front</td>\n",
       "      <td>88.6</td>\n",
       "      <td>...</td>\n",
       "      <td>130</td>\n",
       "      <td>mpfi</td>\n",
       "      <td>3.47</td>\n",
       "      <td>2.68</td>\n",
       "      <td>9.0</td>\n",
       "      <td>111</td>\n",
       "      <td>5000</td>\n",
       "      <td>21</td>\n",
       "      <td>27</td>\n",
       "      <td>13495.0</td>\n",
       "    </tr>\n",
       "    <tr>\n",
       "      <th>1</th>\n",
       "      <td>2</td>\n",
       "      <td>3</td>\n",
       "      <td>alfa-romero stelvio</td>\n",
       "      <td>gas</td>\n",
       "      <td>std</td>\n",
       "      <td>two</td>\n",
       "      <td>convertible</td>\n",
       "      <td>rwd</td>\n",
       "      <td>front</td>\n",
       "      <td>88.6</td>\n",
       "      <td>...</td>\n",
       "      <td>130</td>\n",
       "      <td>mpfi</td>\n",
       "      <td>3.47</td>\n",
       "      <td>2.68</td>\n",
       "      <td>9.0</td>\n",
       "      <td>111</td>\n",
       "      <td>5000</td>\n",
       "      <td>21</td>\n",
       "      <td>27</td>\n",
       "      <td>16500.0</td>\n",
       "    </tr>\n",
       "    <tr>\n",
       "      <th>2</th>\n",
       "      <td>3</td>\n",
       "      <td>1</td>\n",
       "      <td>alfa-romero Quadrifoglio</td>\n",
       "      <td>gas</td>\n",
       "      <td>std</td>\n",
       "      <td>two</td>\n",
       "      <td>hatchback</td>\n",
       "      <td>rwd</td>\n",
       "      <td>front</td>\n",
       "      <td>94.5</td>\n",
       "      <td>...</td>\n",
       "      <td>152</td>\n",
       "      <td>mpfi</td>\n",
       "      <td>2.68</td>\n",
       "      <td>3.47</td>\n",
       "      <td>9.0</td>\n",
       "      <td>154</td>\n",
       "      <td>5000</td>\n",
       "      <td>19</td>\n",
       "      <td>26</td>\n",
       "      <td>16500.0</td>\n",
       "    </tr>\n",
       "    <tr>\n",
       "      <th>3</th>\n",
       "      <td>4</td>\n",
       "      <td>2</td>\n",
       "      <td>audi 100 ls</td>\n",
       "      <td>gas</td>\n",
       "      <td>std</td>\n",
       "      <td>four</td>\n",
       "      <td>sedan</td>\n",
       "      <td>fwd</td>\n",
       "      <td>front</td>\n",
       "      <td>99.8</td>\n",
       "      <td>...</td>\n",
       "      <td>109</td>\n",
       "      <td>mpfi</td>\n",
       "      <td>3.19</td>\n",
       "      <td>3.40</td>\n",
       "      <td>10.0</td>\n",
       "      <td>102</td>\n",
       "      <td>5500</td>\n",
       "      <td>24</td>\n",
       "      <td>30</td>\n",
       "      <td>13950.0</td>\n",
       "    </tr>\n",
       "    <tr>\n",
       "      <th>4</th>\n",
       "      <td>5</td>\n",
       "      <td>2</td>\n",
       "      <td>audi 100ls</td>\n",
       "      <td>gas</td>\n",
       "      <td>std</td>\n",
       "      <td>four</td>\n",
       "      <td>sedan</td>\n",
       "      <td>4wd</td>\n",
       "      <td>front</td>\n",
       "      <td>99.4</td>\n",
       "      <td>...</td>\n",
       "      <td>136</td>\n",
       "      <td>mpfi</td>\n",
       "      <td>3.19</td>\n",
       "      <td>3.40</td>\n",
       "      <td>8.0</td>\n",
       "      <td>115</td>\n",
       "      <td>5500</td>\n",
       "      <td>18</td>\n",
       "      <td>22</td>\n",
       "      <td>17450.0</td>\n",
       "    </tr>\n",
       "  </tbody>\n",
       "</table>\n",
       "<p>5 rows × 26 columns</p>\n",
       "</div>"
      ],
      "text/plain": [
       "   car_ID  symboling                   CarName fueltype aspiration doornumber  \\\n",
       "0       1          3        alfa-romero giulia      gas        std        two   \n",
       "1       2          3       alfa-romero stelvio      gas        std        two   \n",
       "2       3          1  alfa-romero Quadrifoglio      gas        std        two   \n",
       "3       4          2               audi 100 ls      gas        std       four   \n",
       "4       5          2                audi 100ls      gas        std       four   \n",
       "\n",
       "       carbody drivewheel enginelocation  wheelbase  ...  enginesize  \\\n",
       "0  convertible        rwd          front       88.6  ...         130   \n",
       "1  convertible        rwd          front       88.6  ...         130   \n",
       "2    hatchback        rwd          front       94.5  ...         152   \n",
       "3        sedan        fwd          front       99.8  ...         109   \n",
       "4        sedan        4wd          front       99.4  ...         136   \n",
       "\n",
       "   fuelsystem  boreratio  stroke compressionratio horsepower  peakrpm citympg  \\\n",
       "0        mpfi       3.47    2.68              9.0        111     5000      21   \n",
       "1        mpfi       3.47    2.68              9.0        111     5000      21   \n",
       "2        mpfi       2.68    3.47              9.0        154     5000      19   \n",
       "3        mpfi       3.19    3.40             10.0        102     5500      24   \n",
       "4        mpfi       3.19    3.40              8.0        115     5500      18   \n",
       "\n",
       "   highwaympg    price  \n",
       "0          27  13495.0  \n",
       "1          27  16500.0  \n",
       "2          26  16500.0  \n",
       "3          30  13950.0  \n",
       "4          22  17450.0  \n",
       "\n",
       "[5 rows x 26 columns]"
      ]
     },
     "execution_count": 21,
     "metadata": {},
     "output_type": "execute_result"
    }
   ],
   "source": [
    "df.head()\n"
   ]
  },
  {
   "cell_type": "markdown",
   "id": "301df45b-b09e-4614-bbdd-6ae450ccc4c7",
   "metadata": {},
   "source": [
    "### MODEL IMPLEMENTATION"
   ]
  },
  {
   "cell_type": "code",
   "execution_count": 24,
   "id": "8553f53b-cd7a-43d9-b53f-0cf966f661ca",
   "metadata": {},
   "outputs": [],
   "source": [
    "#set target value\n",
    "\n",
    "X = df.iloc[:, :-1] \n",
    "y = df.iloc[:, -1]  "
   ]
  },
  {
   "cell_type": "code",
   "execution_count": 26,
   "id": "97db14f3-a138-49f7-b88a-e2cfd7986449",
   "metadata": {},
   "outputs": [
    {
     "name": "stdout",
     "output_type": "stream",
     "text": [
      "car_ID                int64\n",
      "symboling             int64\n",
      "CarName              object\n",
      "fueltype             object\n",
      "aspiration           object\n",
      "doornumber           object\n",
      "carbody              object\n",
      "drivewheel           object\n",
      "enginelocation       object\n",
      "wheelbase           float64\n",
      "carlength           float64\n",
      "carwidth            float64\n",
      "carheight           float64\n",
      "curbweight            int64\n",
      "enginetype           object\n",
      "cylindernumber       object\n",
      "enginesize            int64\n",
      "fuelsystem           object\n",
      "boreratio           float64\n",
      "stroke              float64\n",
      "compressionratio    float64\n",
      "horsepower            int64\n",
      "peakrpm               int64\n",
      "citympg               int64\n",
      "highwaympg            int64\n",
      "dtype: object\n"
     ]
    }
   ],
   "source": [
    "print(X.dtypes) \n"
   ]
  },
  {
   "cell_type": "code",
   "execution_count": 28,
   "id": "8c741f93-487d-4bd0-b744-c21a00abb880",
   "metadata": {},
   "outputs": [],
   "source": [
    "X = X.apply(pd.to_numeric, errors='coerce')\n",
    "X.fillna(0, inplace=True)  "
   ]
  },
  {
   "cell_type": "markdown",
   "id": "644a4db2-ba52-4c0d-a219-79d11986c06e",
   "metadata": {},
   "source": [
    "Machine learning algorithms require numeric input; categorical or mixed data types can cause issues.\n",
    "Filling NaN values with 0 ensures that missing values do not affect the model's performance.\n",
    "This is a simple yet effective method for handling missing data when no domain-specific imputation strategy is available."
   ]
  },
  {
   "cell_type": "code",
   "execution_count": 31,
   "id": "7fda3180-3130-467a-afee-87c4685d392c",
   "metadata": {},
   "outputs": [
    {
     "name": "stdout",
     "output_type": "stream",
     "text": [
      "car_ID                int64\n",
      "symboling             int64\n",
      "CarName             float64\n",
      "fueltype            float64\n",
      "aspiration          float64\n",
      "doornumber          float64\n",
      "carbody             float64\n",
      "drivewheel          float64\n",
      "enginelocation      float64\n",
      "wheelbase           float64\n",
      "carlength           float64\n",
      "carwidth            float64\n",
      "carheight           float64\n",
      "curbweight            int64\n",
      "enginetype          float64\n",
      "cylindernumber      float64\n",
      "enginesize            int64\n",
      "fuelsystem          float64\n",
      "boreratio           float64\n",
      "stroke              float64\n",
      "compressionratio    float64\n",
      "horsepower            int64\n",
      "peakrpm               int64\n",
      "citympg               int64\n",
      "highwaympg            int64\n",
      "dtype: object\n"
     ]
    }
   ],
   "source": [
    "print(X.dtypes) "
   ]
  },
  {
   "cell_type": "code",
   "execution_count": 33,
   "id": "bc7d7320-814b-4f92-afd1-4a1d7ababa43",
   "metadata": {},
   "outputs": [],
   "source": [
    "#standardisation\n",
    "\n",
    "from sklearn.preprocessing import StandardScaler\n",
    "\n",
    "object= StandardScaler()\n",
    "X_scale = object.fit_transform(X)"
   ]
  },
  {
   "cell_type": "code",
   "execution_count": 34,
   "id": "f9c22bc8-abd1-4d44-8cbd-561268579e2f",
   "metadata": {},
   "outputs": [
    {
     "data": {
      "text/plain": [
       "array([[-1.72362229,  1.74347043,  0.        , ..., -0.26296022,\n",
       "        -0.64655303, -0.54605874],\n",
       "       [-1.70672403,  1.74347043,  0.        , ..., -0.26296022,\n",
       "        -0.64655303, -0.54605874],\n",
       "       [-1.68982577,  0.133509  ,  0.        , ..., -0.26296022,\n",
       "        -0.95301169, -0.69162706],\n",
       "       ...,\n",
       "       [ 1.68982577, -1.47645244,  0.        , ...,  0.78785546,\n",
       "        -1.10624102, -1.12833203],\n",
       "       [ 1.70672403, -1.47645244,  0.        , ..., -0.68328649,\n",
       "         0.11959362, -0.54605874],\n",
       "       [ 1.72362229, -1.47645244,  0.        , ...,  0.57769233,\n",
       "        -0.95301169, -0.83719538]])"
      ]
     },
     "execution_count": 34,
     "metadata": {},
     "output_type": "execute_result"
    }
   ],
   "source": [
    "X_scale"
   ]
  },
  {
   "cell_type": "code",
   "execution_count": 35,
   "id": "295e92bd-bb40-447f-945b-5fd154c0603a",
   "metadata": {},
   "outputs": [
    {
     "data": {
      "text/plain": [
       "(205, 25)"
      ]
     },
     "execution_count": 35,
     "metadata": {},
     "output_type": "execute_result"
    }
   ],
   "source": [
    "X_scale.shape"
   ]
  },
  {
   "cell_type": "code",
   "execution_count": 36,
   "id": "c28644d3-2e21-454f-85b4-8135f49124e8",
   "metadata": {},
   "outputs": [],
   "source": [
    "#linear Regression\n",
    "\n",
    "from sklearn.model_selection import train_test_split\n",
    "from sklearn.linear_model import LinearRegression\n",
    "\n",
    "X_train, X_test, y_train, y_test = train_test_split(\n",
    "    X_scale, y, test_size=0.33, random_state=42)\n",
    "\n",
    "lr = LinearRegression()\n",
    "lr.fit(X_train, y_train)\n",
    "y_pred_lr = lr.predict(X_test)"
   ]
  },
  {
   "cell_type": "markdown",
   "id": "27f36428-31eb-4f17-b84e-3b90933a034e",
   "metadata": {},
   "source": [
    "Linear Regression\n",
    "\n",
    "How It Works:\n",
    "\n",
    "Linear Regression finds the best-fitting line to predict the target variable 𝑌 based on features 𝑋"
   ]
  },
  {
   "cell_type": "code",
   "execution_count": 44,
   "id": "c2fe6e1b-3ba1-4bce-9340-3ecb2a625992",
   "metadata": {},
   "outputs": [],
   "source": [
    "from sklearn.metrics import mean_squared_error, mean_absolute_error, r2_score"
   ]
  },
  {
   "cell_type": "code",
   "execution_count": 46,
   "id": "65caa0ea-fb00-4d3f-ba9e-1269cd7de60e",
   "metadata": {},
   "outputs": [
    {
     "data": {
      "text/plain": [
       "11424184.576565895"
      ]
     },
     "execution_count": 46,
     "metadata": {},
     "output_type": "execute_result"
    }
   ],
   "source": [
    "#Mean Squared Error (MSE)\n",
    "\n",
    "mean_squared_error(y_pred_lr, y_test)\n",
    "    "
   ]
  },
  {
   "cell_type": "markdown",
   "id": "d0df65a1-16ec-4483-8b53-2c2a673107e2",
   "metadata": {},
   "source": [
    "Mean Squared Error (MSE)\n",
    "\n",
    "Measures the average squared difference between actual and predicted values.\n",
    "\n",
    "Lower MSE means better model performance.\n",
    "\n"
   ]
  },
  {
   "cell_type": "code",
   "execution_count": 52,
   "id": "9aa7c02f-d210-4364-a4ce-f55b8bf5cfc0",
   "metadata": {},
   "outputs": [
    {
     "data": {
      "text/plain": [
       "2402.831456067675"
      ]
     },
     "execution_count": 52,
     "metadata": {},
     "output_type": "execute_result"
    }
   ],
   "source": [
    "#Mean Absolute Error (MAE)\n",
    "\n",
    "mean_absolute_error(y_pred_lr, y_test)\n"
   ]
  },
  {
   "cell_type": "markdown",
   "id": "edd2c76d-c62e-41cd-9c1c-830238fae459",
   "metadata": {},
   "source": [
    "Mean Absolute Error (MAE)\n",
    "\n",
    "Measures the absolute difference between actual and predicted values.\n",
    "    \n",
    "Lower MAE means better model accuracy."
   ]
  },
  {
   "cell_type": "code",
   "execution_count": 61,
   "id": "065238e6-321a-45be-87ce-d80f7e6944fe",
   "metadata": {},
   "outputs": [
    {
     "data": {
      "text/plain": [
       "0.7937604167144586"
      ]
     },
     "execution_count": 61,
     "metadata": {},
     "output_type": "execute_result"
    }
   ],
   "source": [
    "#R-squared Score (𝑅^2)\n",
    "\n",
    "r2_score(y_pred_lr, y_test)\n"
   ]
  },
  {
   "cell_type": "markdown",
   "id": "b70ea72f-ce22-47ce-a8df-c5f9a53add6b",
   "metadata": {},
   "source": [
    "\n",
    "R-squared (R²) → \n",
    "\n",
    "Measures how well the model explains the variance in the target variable.\n",
    "\n",
    "Higher values indicate better performance.\n"
   ]
  },
  {
   "cell_type": "code",
   "execution_count": 90,
   "id": "b221940f-9c4f-4f29-9809-5a5a37100a4b",
   "metadata": {},
   "outputs": [],
   "source": [
    "from sklearn.tree import DecisionTreeRegressor\n",
    "\n",
    "\n",
    "dt = DecisionTreeRegressor(random_state=42)\n",
    "dt.fit(X_train, y_train)  \n",
    "y_pred_dt = dt.predict(X_test)"
   ]
  },
  {
   "cell_type": "markdown",
   "id": "1aaaa339-b919-43ef-9f6b-b85b4397cfcf",
   "metadata": {},
   "source": [
    "The Decision Tree Regressor is a non-linear model that splits the data into different regions based on feature values and makes predictions using a tree-like structure. \n",
    "\n",
    "    It works well for capturing complex relationships but can overfit if not properly tuned."
   ]
  },
  {
   "cell_type": "code",
   "execution_count": 93,
   "id": "d1944a8e-d711-405e-acc1-9ea4d2f9b496",
   "metadata": {},
   "outputs": [
    {
     "data": {
      "text/plain": [
       "6224720.150263074"
      ]
     },
     "execution_count": 93,
     "metadata": {},
     "output_type": "execute_result"
    }
   ],
   "source": [
    "mean_squared_error(y_pred_dt, y_test)\n"
   ]
  },
  {
   "cell_type": "code",
   "execution_count": 95,
   "id": "6bb2c733-022e-4d81-95c3-c2569ba60ae6",
   "metadata": {},
   "outputs": [
    {
     "data": {
      "text/plain": [
       "1734.151955882353"
      ]
     },
     "execution_count": 95,
     "metadata": {},
     "output_type": "execute_result"
    }
   ],
   "source": [
    "mean_absolute_error(y_pred_dt, y_test)\n"
   ]
  },
  {
   "cell_type": "code",
   "execution_count": 97,
   "id": "11f54c1f-1c20-42e6-bcd5-660cced6921f",
   "metadata": {},
   "outputs": [
    {
     "data": {
      "text/plain": [
       "0.9151225135950479"
      ]
     },
     "execution_count": 97,
     "metadata": {},
     "output_type": "execute_result"
    }
   ],
   "source": [
    "r2_score(y_pred_dt, y_test)\n"
   ]
  },
  {
   "cell_type": "code",
   "execution_count": 76,
   "id": "a5ebc7cb-2a1f-4e1e-a2da-a080acaa129f",
   "metadata": {},
   "outputs": [],
   "source": [
    "from sklearn.ensemble import RandomForestRegressor\n",
    "\n",
    "rf = RandomForestRegressor(n_estimators=100, random_state=42)\n",
    "rf.fit(X_train, y_train)  \n",
    "y_pred_rf = rf.predict(X_test)"
   ]
  },
  {
   "cell_type": "code",
   "execution_count": null,
   "id": "488fb21f-46cf-4c3b-99da-b6526a29fec4",
   "metadata": {},
   "outputs": [],
   "source": []
  },
  {
   "cell_type": "code",
   "execution_count": 79,
   "id": "c3ca4fc1-839a-4036-ad3b-3522a89c3da4",
   "metadata": {},
   "outputs": [
    {
     "data": {
      "text/plain": [
       "3713387.5718385144"
      ]
     },
     "execution_count": 79,
     "metadata": {},
     "output_type": "execute_result"
    }
   ],
   "source": [
    "mean_squared_error(y_pred_rf, y_test)\n"
   ]
  },
  {
   "cell_type": "code",
   "execution_count": 81,
   "id": "5428f59a-a79c-4b1e-a496-fe93414a2eca",
   "metadata": {},
   "outputs": [
    {
     "data": {
      "text/plain": [
       "1391.958573529412"
      ]
     },
     "execution_count": 81,
     "metadata": {},
     "output_type": "execute_result"
    }
   ],
   "source": [
    "mean_absolute_error(y_pred_rf, y_test)\n"
   ]
  },
  {
   "cell_type": "code",
   "execution_count": 83,
   "id": "07cc26b1-19f7-4d86-be18-3ae82c04dcb2",
   "metadata": {},
   "outputs": [
    {
     "data": {
      "text/plain": [
       "0.9355920115857586"
      ]
     },
     "execution_count": 83,
     "metadata": {},
     "output_type": "execute_result"
    }
   ],
   "source": [
    "r2_score(y_pred_rf, y_test)\n"
   ]
  },
  {
   "cell_type": "code",
   "execution_count": 85,
   "id": "3a5ce035-2153-43b2-be9d-dc2e33dff509",
   "metadata": {},
   "outputs": [],
   "source": [
    "from sklearn.ensemble import GradientBoostingRegressor\n",
    "gb = GradientBoostingRegressor(n_estimators=100, random_state=42)\n",
    "gb.fit(X_train, y_train)\n",
    "y_pred_gb = gb.predict(X_test)\n"
   ]
  },
  {
   "cell_type": "markdown",
   "id": "f116e4aa-354d-40c5-8eb3-3e6dad4cd6f3",
   "metadata": {},
   "source": [
    "The Gradient Boosting Regressor (GBR) \n",
    "\n",
    "it is an ensemble learning method that builds trees sequentially, minimizing errors from previous trees.\n",
    "\n",
    "It is more robust than a single Decision Tree and often outperforms Random Forest by reducing bias and variance effectively."
   ]
  },
  {
   "cell_type": "code",
   "execution_count": 35,
   "id": "a8aa9e2b-a0c4-41c1-b5a7-42737d8e9c19",
   "metadata": {},
   "outputs": [
    {
     "data": {
      "text/plain": [
       "5249013.95599746"
      ]
     },
     "execution_count": 35,
     "metadata": {},
     "output_type": "execute_result"
    }
   ],
   "source": [
    "mean_squared_error(y_pred_gb, y_test)\n"
   ]
  },
  {
   "cell_type": "code",
   "execution_count": 37,
   "id": "6540e534-09de-457b-8160-d365b03dac0d",
   "metadata": {},
   "outputs": [
    {
     "data": {
      "text/plain": [
       "1666.4562367007948"
      ]
     },
     "execution_count": 37,
     "metadata": {},
     "output_type": "execute_result"
    }
   ],
   "source": [
    "mean_absolute_error(y_pred_gb, y_test)\n"
   ]
  },
  {
   "cell_type": "code",
   "execution_count": 39,
   "id": "a8028c36-b7dd-4a2f-b9a8-cd6a85030a3e",
   "metadata": {},
   "outputs": [
    {
     "data": {
      "text/plain": [
       "0.9269552482133443"
      ]
     },
     "execution_count": 39,
     "metadata": {},
     "output_type": "execute_result"
    }
   ],
   "source": [
    "r2_score(y_pred_gb, y_test)\n"
   ]
  },
  {
   "cell_type": "code",
   "execution_count": 26,
   "id": "3f0f68f8-56c2-4062-b4fd-30ea1d2d75e4",
   "metadata": {},
   "outputs": [],
   "source": [
    "from sklearn.svm import SVR\n",
    "svr = SVR(kernel='rbf')\n",
    "svr.fit(X_train, y_train)  # Needs scaling\n",
    "y_pred_svr = svr.predict(X_test)"
   ]
  },
  {
   "cell_type": "markdown",
   "id": "a63fc0f8-80f6-4163-8612-33bc48a190c2",
   "metadata": {},
   "source": [
    "The Support Vector Regressor (SVR) \n",
    "it is a powerful regression model based on Support Vector Machines (SVM).\n",
    "\n",
    "It is useful for capturing complex relationships, especially when data is non-linearly distributed. \n",
    "\n",
    "Unlike tree-based models, SVR works by finding the best-fit hyperplane within a margin, minimizing errors while ignoring small deviations.\n",
    "\n"
   ]
  },
  {
   "cell_type": "code",
   "execution_count": 27,
   "id": "bfefa3bf-13d1-48dc-805a-b06b3862e005",
   "metadata": {},
   "outputs": [
    {
     "data": {
      "text/plain": [
       "69764315.30103254"
      ]
     },
     "execution_count": 27,
     "metadata": {},
     "output_type": "execute_result"
    }
   ],
   "source": [
    "mean_squared_error(y_pred_svr, y_test)\n"
   ]
  },
  {
   "cell_type": "code",
   "execution_count": 28,
   "id": "33138102-4c3a-4fd8-bb86-3c5545d4cd47",
   "metadata": {},
   "outputs": [
    {
     "data": {
      "text/plain": [
       "5329.326682945467"
      ]
     },
     "execution_count": 28,
     "metadata": {},
     "output_type": "execute_result"
    }
   ],
   "source": [
    "mean_absolute_error(y_pred_svr, y_test)\n"
   ]
  },
  {
   "cell_type": "code",
   "execution_count": 29,
   "id": "9f3a1881-a428-4715-8e6f-cf34cdfbc74e",
   "metadata": {},
   "outputs": [
    {
     "data": {
      "text/plain": [
       "-359301.1097648825"
      ]
     },
     "execution_count": 29,
     "metadata": {},
     "output_type": "execute_result"
    }
   ],
   "source": [
    "r2_score(y_pred_svr, y_test)\n"
   ]
  },
  {
   "cell_type": "markdown",
   "id": "c8a998b6-a6c3-43e7-9bbf-f85a64676a62",
   "metadata": {},
   "source": [
    " ## Random Forest Regressor is the better model because:\n",
    "\n",
    "## It has a lower MSE (3,713,387.57 vs. 6,224,720.15) → meaning lower overall prediction errors.\n",
    "## It has a lower MAE (1,391.96 vs. 1,734.15) → meaning more accurate predictions on average.\n",
    "## It has a higher R² score (0.9356 vs. 0.9151) → meaning better explanatory power (it explains 93.56% of the variance in car prices)."
   ]
  },
  {
   "cell_type": "code",
   "execution_count": 31,
   "id": "103cae30-8666-400e-ad56-97e838c9f4db",
   "metadata": {},
   "outputs": [
    {
     "name": "stdout",
     "output_type": "stream",
     "text": [
      "Top Features Selected: ['wheelbase', 'carlength', 'carwidth', 'carheight', 'curbweight', 'enginesize', 'boreratio', 'horsepower', 'citympg', 'highwaympg']\n"
     ]
    }
   ],
   "source": [
    "#Feature Importance Analysis\n",
    "\n",
    "from sklearn.feature_selection import SelectKBest, f_regression\n",
    "\n",
    "# Using SelectKBest to find top features\n",
    "selector = SelectKBest(score_func=f_regression, k=10)\n",
    "X_new = selector.fit_transform(X_scale, y)\n",
    "# Selected features\n",
    "selected_features = X.columns.values[selector.get_support()]\n",
    "print(\"Top Features Selected:\", list(selected_features))\n",
    "\n"
   ]
  },
  {
   "cell_type": "markdown",
   "id": "dfd9908c-64cd-4d7c-ae27-7f812bfe9804",
   "metadata": {},
   "source": [
    "Feature Importance Analysis\n",
    "Feature importance analysis helps identify the most significant variables influencing car prices. Selecting the right features improves model accuracy, reduces overfitting, and enhances interpretability.\n",
    "\n"
   ]
  },
  {
   "cell_type": "markdown",
   "id": "f7a86b8d-c9dd-453b-8f11-272171271e21",
   "metadata": {},
   "source": [
    "Feature Selection using SelectKBest\n",
    "SelectKBest is a feature selection method in Scikit-Learn that selects the top K features based on statistical tests. It helps improve model performance by reducing noise and focusing on the most relevant features."
   ]
  },
  {
   "cell_type": "markdown",
   "id": "5adde011-90e6-490a-a1a2-513cbdc0a7e2",
   "metadata": {},
   "source": [
    " Hyperparameter Tuning \n",
    "\n",
    "Hyperparameter tuning is essential to optimize machine learning models by finding the best set of parameters that improve performance.\n",
    "We will use GridsearchCV for his model"
   ]
  },
  {
   "cell_type": "code",
   "execution_count": 106,
   "id": "a7dd58c3-a723-4cad-8162-6ba6aecbd15e",
   "metadata": {},
   "outputs": [
    {
     "name": "stdout",
     "output_type": "stream",
     "text": [
      "Best Parameters: {'max_depth': 20, 'max_features': 'log2', 'min_samples_leaf': 1, 'min_samples_split': 2, 'n_estimators': 400}\n",
      "Best R² Score: 0.9048085683592093\n"
     ]
    }
   ],
   "source": [
    "from sklearn.model_selection import GridSearchCV\n",
    "\n",
    "# Define a refined grid based on previous results\n",
    "param_grid = {\n",
    "    \"n_estimators\": [200, 300, 400],\n",
    "    \"max_depth\": [10, 15, 20],\n",
    "    \"min_samples_split\": [2, 5],\n",
    "    \"min_samples_leaf\": [1, 2],\n",
    "    \"max_features\": [\"sqrt\", \"log2\"]\n",
    "}\n",
    "\n",
    "# Grid Search\n",
    "grid_search = GridSearchCV(\n",
    "    RandomForestRegressor(random_state=42), param_grid, cv=5, scoring=\"r2\", n_jobs=-1\n",
    ")\n",
    "grid_search.fit(X_train, y_train)\n",
    "\n",
    "# Best Parameters and Score\n",
    "print(\"Best Parameters:\", grid_search.best_params_)\n",
    "print(\"Best R² Score:\", grid_search.best_score_)"
   ]
  },
  {
   "cell_type": "code",
   "execution_count": null,
   "id": "b74e5c6b-9e92-49a5-bb2d-b0a71177b403",
   "metadata": {},
   "outputs": [],
   "source": []
  }
 ],
 "metadata": {
  "kernelspec": {
   "display_name": "Python 3 (ipykernel)",
   "language": "python",
   "name": "python3"
  },
  "language_info": {
   "codemirror_mode": {
    "name": "ipython",
    "version": 3
   },
   "file_extension": ".py",
   "mimetype": "text/x-python",
   "name": "python",
   "nbconvert_exporter": "python",
   "pygments_lexer": "ipython3",
   "version": "3.12.7"
  }
 },
 "nbformat": 4,
 "nbformat_minor": 5
}
